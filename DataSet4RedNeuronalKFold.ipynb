{
 "cells": [
  {
   "cell_type": "code",
   "execution_count": 1,
   "metadata": {},
   "outputs": [],
   "source": [
    "#Edgar Moises Hernandez-Gonzalez\n",
    "#13/01/19\n",
    "#Red Neuronal con 5-fold cross-validation"
   ]
  },
  {
   "cell_type": "code",
   "execution_count": 2,
   "metadata": {},
   "outputs": [],
   "source": [
    "import pandas as pd\n",
    "from sklearn.model_selection import KFold\n",
    "from sklearn.neural_network import MLPClassifier"
   ]
  },
  {
   "cell_type": "code",
   "execution_count": 3,
   "metadata": {},
   "outputs": [],
   "source": [
    "datos = pd.read_csv('Datos4_1.csv')\n",
    "x = datos.iloc[:, 0:2].values\n",
    "y = datos.iloc[:, 2].values"
   ]
  },
  {
   "cell_type": "code",
   "execution_count": 4,
   "metadata": {},
   "outputs": [],
   "source": [
    "kf = KFold(n_splits = 5)"
   ]
  },
  {
   "cell_type": "code",
   "execution_count": 5,
   "metadata": {},
   "outputs": [],
   "source": [
    "red = MLPClassifier(10)"
   ]
  },
  {
   "cell_type": "code",
   "execution_count": 6,
   "metadata": {},
   "outputs": [
    {
     "name": "stdout",
     "output_type": "stream",
     "text": [
      "\n",
      "Iteracion: 1\n"
     ]
    },
    {
     "name": "stderr",
     "output_type": "stream",
     "text": [
      "C:\\Users\\EdgarMoises\\Anaconda3\\lib\\site-packages\\sklearn\\neural_network\\multilayer_perceptron.py:564: ConvergenceWarning: Stochastic Optimizer: Maximum iterations (200) reached and the optimization hasn't converged yet.\n",
      "  % self.max_iter, ConvergenceWarning)\n"
     ]
    },
    {
     "name": "stdout",
     "output_type": "stream",
     "text": [
      "Clasificacion: 0.71\n",
      "\n",
      "Iteracion: 2\n",
      "Clasificacion: 0.9\n",
      "\n",
      "Iteracion: 3\n",
      "Clasificacion: 0.73\n",
      "\n",
      "Iteracion: 4\n",
      "Clasificacion: 0.8\n",
      "\n",
      "Iteracion: 5\n",
      "Clasificacion: 0.77\n",
      "\n",
      "Promedio: 0.7819999999999999\n"
     ]
    }
   ],
   "source": [
    "i=0\n",
    "suma=0\n",
    "for iTrain, jTest in kf.split(x):\n",
    "    print(\"\\nIteracion:\",i+1)\n",
    "    xEntrena, xPrueba = x[iTrain], x[jTest]\n",
    "    yEntrena, yPrueba = y[iTrain], y[jTest]\n",
    "    red.fit(xEntrena, yEntrena)\n",
    "    porcentaje = red.score(xPrueba, yPrueba)\n",
    "    print(\"Clasificacion:\", porcentaje)\n",
    "    suma+=porcentaje\n",
    "    i+=1\n",
    "print(\"\\nPromedio:\", suma/i)"
   ]
  }
 ],
 "metadata": {
  "kernelspec": {
   "display_name": "Python 3",
   "language": "python",
   "name": "python3"
  },
  "language_info": {
   "codemirror_mode": {
    "name": "ipython",
    "version": 3
   },
   "file_extension": ".py",
   "mimetype": "text/x-python",
   "name": "python",
   "nbconvert_exporter": "python",
   "pygments_lexer": "ipython3",
   "version": "3.7.1"
  }
 },
 "nbformat": 4,
 "nbformat_minor": 2
}
